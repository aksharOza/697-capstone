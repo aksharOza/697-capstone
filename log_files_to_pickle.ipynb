{
 "cells": [
  {
   "cell_type": "code",
   "execution_count": 1,
   "id": "spoken-thursday",
   "metadata": {},
   "outputs": [
    {
     "data": {
      "text/html": [
       "<style>.container {width:100% !important;}</style>"
      ],
      "text/plain": [
       "<IPython.core.display.HTML object>"
      ]
     },
     "metadata": {},
     "output_type": "display_data"
    }
   ],
   "source": [
    "from IPython.core.display import display,HTML\n",
    "display(HTML(\"<style>.container {width:100% !important;}</style>\"))"
   ]
  },
  {
   "cell_type": "code",
   "execution_count": 2,
   "id": "unnecessary-curtis",
   "metadata": {},
   "outputs": [],
   "source": [
    "# imports\n",
    "# standard library (well not pandas but it might as well be :))\n",
    "import pandas as pd\n",
    "import glob\n",
    "\n",
    "# local support modules\n",
    "from capstone_logs_support import create_camera_df, create_yolo_df, create_facerecog_df, concat_df"
   ]
  },
  {
   "cell_type": "code",
   "execution_count": 3,
   "id": "purple-square",
   "metadata": {},
   "outputs": [],
   "source": [
    "# create a list of log files for each log type\n",
    "camera_log_files = glob.glob('logs/camera/*.log')\n",
    "yolo_log_files = glob.glob('logs/YOLO/*_overview*.log')\n",
    "facerecognition_log_files = glob.glob('logs/facenet/*new_FaceRecognition.log')"
   ]
  },
  {
   "cell_type": "code",
   "execution_count": 4,
   "id": "viral-negotiation",
   "metadata": {},
   "outputs": [
    {
     "name": "stdout",
     "output_type": "stream",
     "text": [
      "Successfully parsed /opt/apps/capstone/data/logs_final/camera/Reolink_motion_alerts_Eingang_part1.log\n",
      "Successfully parsed /opt/apps/capstone/data/logs_final/camera/Reolink_motion_alerts_Eingang_part6.log\n",
      "Successfully parsed /opt/apps/capstone/data/logs_final/camera/Reolink_motion_alerts_Eingang.log\n",
      "Successfully parsed /opt/apps/capstone/data/logs_final/camera/Reolink_motion_alerts_Eingang_part5.log\n",
      "Successfully parsed /opt/apps/capstone/data/logs_final/camera/Reolink_motion_alerts_Eingang_part12.log\n",
      "Successfully parsed /opt/apps/capstone/data/logs_final/camera/Reolink_motion_alerts_Eingang_part7.log\n",
      "Successfully parsed /opt/apps/capstone/data/logs_final/camera/Reolink_motion_alerts_Eingang_part4.log\n",
      "Successfully parsed /opt/apps/capstone/data/logs_final/camera/Reolink_motion_alerts_Eingang_part2.log\n",
      "Successfully parsed /opt/apps/capstone/data/logs_final/YOLO/YOLO4_DeepSORT_Eingang_overview_part13.log\n",
      "Successfully parsed /opt/apps/capstone/data/logs_final/YOLO/YOLO4_DeepSORT_Eingang_overview_part12.log\n",
      "Successfully parsed /opt/apps/capstone/data/logs_final/YOLO/YOLO4_DeepSORT_Eingang_overview_part14.log\n",
      "Successfully parsed /opt/apps/capstone/data/logs_final/YOLO/YOLO4_DeepSORT_Eingang_overview_part8.log\n",
      "Successfully parsed /opt/apps/capstone/data/logs_final/YOLO/YOLO4_DeepSORT_Eingang_overview_part7.log\n",
      "Successfully parsed /opt/apps/capstone/data/logs_final/YOLO/YOLO4_DeepSORT_Eingang_overview_part6.log\n",
      "Successfully parsed /opt/apps/capstone/data/logs_final/YOLO/YOLO4_DeepSORT_Video_overview.log\n",
      "Successfully parsed /opt/apps/capstone/data/logs_final/YOLO/YOLO4_DeepSORT_Eingang_overview.log\n",
      "Successfully parsed /opt/apps/capstone/data/logs_final/YOLO/YOLO4_DeepSORT_Eingang_overview_part16.log\n",
      "Successfully parsed /opt/apps/capstone/data/logs_final/YOLO/YOLO4_DeepSORT_Eingang_overview_part15.log\n",
      "Successfully parsed /opt/apps/capstone/data/logs_final/YOLO/YOLO4_DeepSORT_Eingang_overview_part17.log\n",
      "Successfully parsed /opt/apps/capstone/data/logs_final/YOLO/YOLO4_DeepSORT_Eingang_overview_part11.log\n",
      "Successfully parsed /opt/apps/capstone/data/logs_final/FaceNet/KNN_new_FaceRecognition.log\n",
      "Successfully parsed /opt/apps/capstone/data/logs_final/FaceNet/SGDC_new_FaceRecognition.log\n"
     ]
    }
   ],
   "source": [
    "# create concatenated dataframe for each log file type\n",
    "camera_df = concat_df(create_camera_df, camera_log_files)\n",
    "yolo_df = concat_df(create_yolo_df, yolo_log_files)\n",
    "facerecognition_df = concat_df(create_facerecog_df, facerecognition_log_files)"
   ]
  },
  {
   "cell_type": "code",
   "execution_count": 5,
   "id": "dutch-burlington",
   "metadata": {},
   "outputs": [],
   "source": [
    "camera_df.to_pickle('/opt/apps/capstone/app/ssurveillance/code/data/dataframes/camera_df.p')\n",
    "yolo_df.to_pickle('/opt/apps/capstone/app/ssurveillance/code/data/dataframes/yolo_df.p')\n",
    "facerecognition_df.to_pickle('/opt/apps/capstone/app/ssurveillance/code/data/dataframes/facerecognition_df.p')"
   ]
  }
 ],
 "metadata": {
  "kernelspec": {
   "display_name": "ml",
   "language": "python",
   "name": "ml"
  },
  "language_info": {
   "codemirror_mode": {
    "name": "ipython",
    "version": 3
   },
   "file_extension": ".py",
   "mimetype": "text/x-python",
   "name": "python",
   "nbconvert_exporter": "python",
   "pygments_lexer": "ipython3",
   "version": "3.8.10"
  }
 },
 "nbformat": 4,
 "nbformat_minor": 5
}
